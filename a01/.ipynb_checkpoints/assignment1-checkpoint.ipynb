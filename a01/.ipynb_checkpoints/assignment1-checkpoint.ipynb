{
 "cells": [
  {
   "cell_type": "code",
   "execution_count": 3,
   "id": "compact-quilt",
   "metadata": {},
   "outputs": [],
   "source": [
    "import numpy\n",
    "import scipy\n",
    "from scipy.signal import correlate\n",
    "from scipy.io.wavfile import read\n",
    "import matplotlib"
   ]
  },
  {
   "cell_type": "code",
   "execution_count": 4,
   "id": "personalized-binding",
   "metadata": {},
   "outputs": [],
   "source": [
    "def crossCorr(x, y):\n",
    "    # z = crossCorr(x, y) \n",
    "    z = correlate(x,y)\n",
    "    return z"
   ]
  },
  {
   "cell_type": "code",
   "execution_count": 5,
   "id": "ecological-bench",
   "metadata": {},
   "outputs": [],
   "source": [
    "def loadSoundFile(filename):\n",
    "    # x = loadSoundFile(filename) \n",
    "    _, x = read(filename)\n",
    "    return x"
   ]
  },
  {
   "cell_type": "code",
   "execution_count": null,
   "id": "efficient-jamaica",
   "metadata": {},
   "outputs": [],
   "source": [
    "def question1():\n",
    "    snare = loadSoundFile(\"snare.wav\")\n",
    "    drum_loop = loadSoundFile(\"drum_loop.wav\")\n",
    "    correlation=crossCorr(snare,drum_loop)"
   ]
  }
 ],
 "metadata": {
  "kernelspec": {
   "display_name": "Python 3",
   "language": "python",
   "name": "python3"
  },
  "language_info": {
   "codemirror_mode": {
    "name": "ipython",
    "version": 3
   },
   "file_extension": ".py",
   "mimetype": "text/x-python",
   "name": "python",
   "nbconvert_exporter": "python",
   "pygments_lexer": "ipython3",
   "version": "3.9.1"
  }
 },
 "nbformat": 4,
 "nbformat_minor": 5
}
