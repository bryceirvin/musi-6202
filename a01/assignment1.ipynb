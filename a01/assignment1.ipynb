{
 "cells": [
  {
   "cell_type": "code",
   "execution_count": 185,
   "id": "continued-stick",
   "metadata": {},
   "outputs": [],
   "source": [
    "import numpy as np\n",
    "import scipy\n",
    "from scipy.signal import correlate\n",
    "from scipy.io.wavfile import read\n",
    "from matplotlib import pyplot\n",
    "from matplotlib.pyplot import plot as plt"
   ]
  },
  {
   "cell_type": "markdown",
   "id": "fixed-disco",
   "metadata": {},
   "source": [
    "# Question 1"
   ]
  },
  {
   "cell_type": "code",
   "execution_count": 171,
   "id": "moderate-journal",
   "metadata": {},
   "outputs": [],
   "source": [
    "def crossCorr(x, y):\n",
    "    # z = crossCorr(x, y)\n",
    "    x=x-np.mean(x)\n",
    "    x=x/np.abs(x).max()\n",
    "    y=y-np.mean(y)\n",
    "    y=y/np.abs(y).max()\n",
    "    z = correlate(x,y)\n",
    "    return z"
   ]
  },
  {
   "cell_type": "code",
   "execution_count": 172,
   "id": "limiting-breed",
   "metadata": {},
   "outputs": [],
   "source": [
    "def loadSoundFile(filename):\n",
    "    # x = loadSoundFile(filename) \n",
    "    _, x = read(filename)\n",
    "    return x[:,0]"
   ]
  },
  {
   "cell_type": "code",
   "execution_count": 173,
   "id": "choice-address",
   "metadata": {},
   "outputs": [],
   "source": [
    "def question1():\n",
    "    snare = loadSoundFile(\"snare.wav\")\n",
    "    drum_loop = loadSoundFile(\"drum_loop.wav\")\n",
    "    correlation=crossCorr(snare,drum_loop)\n",
    "    plt(correlation)\n",
    "    pyplot.title('Cross correlated signal')\n",
    "    pyplot.xlabel('Sample')\n",
    "    pyplot.ylabel('Cross correlation')\n",
    "    pyplot.savefig('results/01-correlation.png')"
   ]
  },
  {
   "cell_type": "code",
   "execution_count": 174,
   "id": "experienced-irish",
   "metadata": {},
   "outputs": [
    {
     "data": {
      "image/png": "[encoded data removed]",
      "text/plain": [
       "<Figure size 432x288 with 1 Axes>"
      ]
     },
     "metadata": {
      "needs_background": "light"
     },
     "output_type": "display_data"
    }
   ],
   "source": [
    "question1()"
   ]
  },
  {
   "cell_type": "markdown",
   "id": "respiratory-recorder",
   "metadata": {},
   "source": [
    "# Question 2"
   ]
  },
  {
   "cell_type": "code",
   "execution_count": 193,
   "id": "bearing-intention",
   "metadata": {},
   "outputs": [],
   "source": [
    "def findSnarePosition(snareFilename,drumloopFilename):\n",
    "    # pos = findSnarePosition(snareFilename, drumloopFilename) \n",
    "    snare=loadSoundFile(snareFilename)\n",
    "    drum_loop=loadSoundFile(drumloopFilename)\n",
    "    correlation=crossCorr(snare,drum_loop)\n",
    "    correlation=abs(correlation)\n",
    "    # look within one standard deviation of the max value\n",
    "    pos = list(np.where(correlation > np.max(correlation)-np.std(correlation)))\n",
    "    \n",
    "    with open('results/02-snareLocation.txt', 'w') as f:\n",
    "        for index in pos:\n",
    "            f.write('%s\\n' % index)\n",
    "        \n",
    "    return pos"
   ]
  },
  {
   "cell_type": "code",
   "execution_count": 194,
   "id": "interpreted-enzyme",
   "metadata": {},
   "outputs": [],
   "source": [
    "pos=findSnarePosition(\"snare.wav\",\"drum_loop.wav\")"
   ]
  },
  {
   "cell_type": "code",
   "execution_count": null,
   "id": "valuable-herald",
   "metadata": {},
   "outputs": [],
   "source": []
  }
 ],
 "metadata": {
  "kernelspec": {
   "display_name": "Python 3",
   "language": "python",
   "name": "python3"
  },
  "language_info": {
   "codemirror_mode": {
    "name": "ipython",
    "version": 3
   },
   "file_extension": ".py",
   "mimetype": "text/x-python",
   "name": "python",
   "nbconvert_exporter": "python",
   "pygments_lexer": "ipython3",
   "version": "3.9.1"
  }
 },
 "nbformat": 4,
 "nbformat_minor": 5
}
