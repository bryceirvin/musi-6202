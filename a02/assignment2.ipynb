{
 "cells": [
  {
   "cell_type": "code",
   "execution_count": 10,
   "id": "identical-petersburg",
   "metadata": {},
   "outputs": [],
   "source": [
    "import numpy as np\n",
    "from matplotlib import pyplot\n",
    "from matplotlib.pyplot import plot as plt\n",
    "from scipy.signal import convolve\n",
    "import time as t\n",
    "from scipy.io.wavfile import read\n",
    "#from tqdm.notebook import tqdm"
   ]
  },
  {
   "cell_type": "code",
   "execution_count": 11,
   "id": "induced-meeting",
   "metadata": {},
   "outputs": [],
   "source": [
    "\"\"\"\n",
    "Question 1: Time Domain Convolution: [30]\n",
    "\n",
    "Write a python function y = myTimeConv(x,h) that computes the sample by sample time domain convolution of two signals.\n",
    "'x' and 'h' are the signal and impulse response respectively and must be NumPy arrays. \n",
    "'y' is the convolution output and also must be a NumPy array (single channel signals only). [15] \n",
    "\n",
    "If the length of 'x' is 200 and the length of 'h' is 100, what is the length of 'y' ? \n",
    "It is sufficient to only provide the answer in a comment above the convolution implementation.  [5]\n",
    "\"\"\"\n",
    "\n",
    "# If the length of x is 200 and the length of h is 100, the length of y is 299\n",
    "\n",
    "def myTimeConv(x,h):\n",
    "    len_x = len(x)\n",
    "    len_h = len(h)\n",
    "    len_y= len_x+len_h-1\n",
    "    \n",
    "    x=np.pad(x,(0,len_y-len_x))\n",
    "    h=np.pad(h,(0,len_y-len_x))\n",
    "        \n",
    "    y=np.zeros(len_y,dtype=float)\n",
    "    for n in range(len_y):#tqdm(range(len_y)):\n",
    "        for m in range(len_h):\n",
    "            y[n] += x[n - m] * h[m]\n",
    "    return y      "
   ]
  },
  {
   "cell_type": "code",
   "execution_count": 14,
   "id": "written-reception",
   "metadata": {},
   "outputs": [
    {
     "data": {
      "image/png": "[encoded data removed]",
      "text/plain": [
       "<Figure size 432x288 with 1 Axes>"
      ]
     },
     "metadata": {
      "needs_background": "light"
     },
     "output_type": "display_data"
    }
   ],
   "source": [
    "\"\"\"\n",
    "Q1 continued...\n",
    "\n",
    "In your main script define 'x' as a DC signal of length 200 (constant amplitude of 1) and 'h' as a \n",
    "symmetric triangular signal of length 51 (0 at the first and last sample and 1 in the middle). \n",
    "Add a function call to myTimeConv() in your script to compute 'y_time' as the time-domain convolution \n",
    "of 'x' and 'h' as defined above. Plot the result (label the axes appropriately) and save in the results folder [10]\n",
    "\"\"\"\n",
    "\n",
    "x = np.ones(200)\n",
    "h = np.concatenate((np.linspace(0,25,num=26),np.linspace(24,0,num=25)))\n",
    "y_time = myTimeConv(x,h)\n",
    "plt(y_time)\n",
    "pyplot.title('Convolution of DC signal and triangular signal')\n",
    "pyplot.xlabel('Sample')\n",
    "pyplot.ylabel('Amplitude')\n",
    "pyplot.savefig('results/01-convolution.png')"
   ]
  },
  {
   "cell_type": "code",
   "execution_count": 13,
   "id": "defined-vulnerability",
   "metadata": {},
   "outputs": [],
   "source": [
    "\"\"\"\n",
    "Question 2. Compare with SciPy Implementation: [20]\n",
    "\n",
    "In this part, you will compare your implementation with the built-in SciPy convolve() \n",
    "(https://docs.scipy.org/doc/scipy/reference/generated/scipy.signal.convolve.html) method. \n",
    "\n",
    "Write a function (m, mabs, stdev, time) = CompareConv(x, h) that compares the output of the \n",
    "convolution from both myTimeConv() with the built-in SciPy convolve() function. \n",
    "Again, 'x' and 'h' are the signal and impulse response respectively and must be NumPy arrays. \n",
    "The function should compute the convolution result of myTimeConv() and compare it with that of convolve(). \n",
    "It must return the following parameters: [10]\n",
    "\n",
    "a) m: float of the mean difference of the output compared to convolve()\n",
    "b) mabs: float of the mean absolute difference of the output compared to convolve()\n",
    "c) stdev: float standard deviation of the difference of the output compared to convolve() \n",
    "d) time: 2-lengthed array containing the running time of each method. \n",
    "(reminder: you will not be graded on speed results)\n",
    "\"\"\"\n",
    "\n",
    "def CompareConv(x,h):\n",
    "    start = t.time()\n",
    "    y1 = myTimeConv(x,h)\n",
    "    end1 = (t.time()-start)\n",
    "    \n",
    "    start = t.time()\n",
    "    y2 = convolve(x,h)\n",
    "    end2 = (t.time()-start)\n",
    "    m = np.mean(y1-y2)\n",
    "    mabs = np.mean(np.abs(y1-y2))\n",
    "    stdev = np.std(y1-y2)\n",
    "    time=np.zeros(2)\n",
    "    time[0]=end1\n",
    "    time[1]=end2 \n",
    "    \n",
    "    return m, mabs, stdev, time"
   ]
  },
  {
   "cell_type": "code",
   "execution_count": 5,
   "id": "instrumental-affiliation",
   "metadata": {},
   "outputs": [
    {
     "data": {
      "application/vnd.jupyter.widget-view+json": {
       "model_id": "59c64036dec646049b9a6955620a4696",
       "version_major": 2,
       "version_minor": 0
      },
      "text/plain": [
       "  0%|          | 0/173695 [00:00<?, ?it/s]"
      ]
     },
     "metadata": {},
     "output_type": "display_data"
    },
    {
     "data": {
      "text/plain": [
       "(0.0, 0.0, 0.0, array([4.58076167e+02, 1.64086819e-02]))"
      ]
     },
     "execution_count": 5,
     "metadata": {},
     "output_type": "execute_result"
    }
   ],
   "source": [
    "\"\"\"\n",
    "Using the files piano.wav and impulse-response.wav add a function call to CompareConv() method in \n",
    "your main script and report the output in the results folder. [10]\n",
    "\"\"\"\n",
    "\n",
    "_,piano=read(\"audio/piano.wav\")\n",
    "_,ir=read(\"audio/impulse-response.wav\")\n",
    "m, mabs, stdev, time = CompareConv(piano.astype(int),ir.astype(int))"
   ]
  },
  {
   "cell_type": "code",
   "execution_count": 9,
   "id": "mature-pricing",
   "metadata": {},
   "outputs": [],
   "source": [
    "with open('results/02-CompareConv.txt', 'w') as f:\n",
    "    f.write('m: %s\\n' % m)\n",
    "    f.write('mabs :%s\\n' % mabs)\n",
    "    f.write('stdev: %s\\n' % stdev)\n",
    "    f.write('time: %s\\n ' % time)"
   ]
  }
 ],
 "metadata": {
  "kernelspec": {
   "display_name": "Python 3",
   "language": "python",
   "name": "python3"
  },
  "language_info": {
   "codemirror_mode": {
    "name": "ipython",
    "version": 3
   },
   "file_extension": ".py",
   "mimetype": "text/x-python",
   "name": "python",
   "nbconvert_exporter": "python",
   "pygments_lexer": "ipython3",
   "version": "3.9.1"
  }
 },
 "nbformat": 4,
 "nbformat_minor": 5
}
